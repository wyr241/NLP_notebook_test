{
 "cells": [
  {
   "cell_type": "code",
   "execution_count": 1,
   "id": "b1cc5695",
   "metadata": {},
   "outputs": [],
   "source": [
    "from natasha import (\n",
    "    Segmenter,\n",
    "    MorphVocab,\n",
    "    \n",
    "    NewsEmbedding,\n",
    "    NewsMorphTagger,\n",
    "    NewsSyntaxParser,\n",
    "    NewsNERTagger,\n",
    "    \n",
    "    PER,\n",
    "    ORG,\n",
    "    NamesExtractor,\n",
    "\n",
    "    Doc\n",
    ")\n",
    "\n",
    "import pandas as pd\n",
    "import numpy as np\n",
    "from pprint import pprint\n",
    "\n",
    "from ipymarkup import show_span_ascii_markup, show_dep_ascii_markup\n",
    "from nerus import load_nerus\n"
   ]
  },
  {
   "cell_type": "code",
   "execution_count": 2,
   "id": "2b935ece",
   "metadata": {},
   "outputs": [],
   "source": [
    "import spacy\n",
    "from spacy.lang.ru import Russian\n",
    "from spacy.lang.ru.examples import sentences"
   ]
  },
  {
   "cell_type": "code",
   "execution_count": 3,
   "id": "5ff02aad",
   "metadata": {},
   "outputs": [],
   "source": [
    "# reading the CSV file\n",
    "csvFile = pd.read_csv('test_data.csv')\n",
    "\n",
    "\n",
    "df = pd.DataFrame(data = csvFile)\n",
    "\n",
    "df = df.to_numpy()\n",
    "\n",
    "segmenter = Segmenter()\n",
    "morph_vocab = MorphVocab()\n",
    "\n",
    "emb = NewsEmbedding()\n",
    "morph_tagger = NewsMorphTagger(emb)\n",
    "syntax_parser = NewsSyntaxParser(emb)\n",
    "ner_tagger = NewsNERTagger(emb)\n",
    "\n",
    "names_extractor = NamesExtractor(morph_vocab)"
   ]
  },
  {
   "cell_type": "markdown",
   "id": "b2db4ac1",
   "metadata": {},
   "source": [
    "# I also wanted to add deeppavlov library due to unreachablilty of the repository I could not use it\n"
   ]
  },
  {
   "cell_type": "code",
   "execution_count": 4,
   "id": "ad3c1a88",
   "metadata": {},
   "outputs": [],
   "source": [
    "mgrs_dialog = []\n",
    "manager_dialog = []\n",
    "cur = 0\n",
    "for i in range(len(df)):\n",
    "    if df[i][0] != cur:\n",
    "        mgrs_dialog.append(manager_dialog)\n",
    "        manager_dialog = []\n",
    "        cur = df[i][0]\n",
    "    if df[i][2] == 'manager':\n",
    "        manager_dialog.append(df[i][3])\n",
    "\n",
    "mgrs_dialog.append(manager_dialog)"
   ]
  },
  {
   "cell_type": "code",
   "execution_count": 5,
   "id": "20bd56d7",
   "metadata": {},
   "outputs": [],
   "source": [
    "from pullenti_wrapper.langs import (\n",
    "    set_langs,\n",
    "    RU\n",
    ")\n",
    "set_langs([RU])\n",
    "from pullenti_wrapper.processor import (\n",
    "    Processor,\n",
    "    ORGANIZATION,\n",
    ")\n",
    "from pullenti_wrapper.referent import Referent\n"
   ]
  },
  {
   "cell_type": "markdown",
   "id": "80590b95",
   "metadata": {},
   "source": [
    "# I also wanted to use PullEnti library, but, after making some experiments, I found it not useful "
   ]
  },
  {
   "cell_type": "code",
   "execution_count": 13,
   "id": "50d7ecb8",
   "metadata": {
    "collapsed": true
   },
   "outputs": [
    {
     "name": "stdout",
     "output_type": "stream",
     "text": [
      "Collecting ru-core-news-lg==3.3.0\n",
      "  Downloading https://github.com/explosion/spacy-models/releases/download/ru_core_news_lg-3.3.0/ru_core_news_lg-3.3.0-py3-none-any.whl (513.4 MB)\n",
      "\u001b[2K     \u001b[38;2;114;156;31m━━━━━━━━━━━━━━━━━━━━━━━━━━━━━━━━━━━━━\u001b[0m \u001b[32m513.4/513.4 MB\u001b[0m \u001b[31m514.8 kB/s\u001b[0m eta \u001b[36m0:00:00\u001b[0mm eta \u001b[36m0:00:01\u001b[0m[36m0:00:18\u001b[0m\n",
      "\u001b[?25hCollecting pymorphy2>=0.9\n",
      "  Using cached pymorphy2-0.9.1-py3-none-any.whl (55 kB)\n",
      "Requirement already satisfied: spacy<3.4.0,>=3.3.0.dev0 in /home/unknown/anaconda3/lib/python3.7/site-packages (from ru-core-news-lg==3.3.0) (3.3.1)\n",
      "Requirement already satisfied: dawg-python>=0.7.1 in /home/unknown/anaconda3/lib/python3.7/site-packages (from pymorphy2>=0.9->ru-core-news-lg==3.3.0) (0.7.2)\n",
      "Requirement already satisfied: docopt>=0.6 in /home/unknown/anaconda3/lib/python3.7/site-packages (from pymorphy2>=0.9->ru-core-news-lg==3.3.0) (0.6.2)\n",
      "Requirement already satisfied: pymorphy2-dicts-ru<3.0,>=2.4 in /home/unknown/anaconda3/lib/python3.7/site-packages (from pymorphy2>=0.9->ru-core-news-lg==3.3.0) (2.4.417127.4579844)\n",
      "Requirement already satisfied: setuptools in /home/unknown/anaconda3/lib/python3.7/site-packages (from spacy<3.4.0,>=3.3.0.dev0->ru-core-news-lg==3.3.0) (63.4.1)\n",
      "Requirement already satisfied: numpy>=1.15.0 in /home/unknown/anaconda3/lib/python3.7/site-packages (from spacy<3.4.0,>=3.3.0.dev0->ru-core-news-lg==3.3.0) (1.18.0)\n",
      "Requirement already satisfied: tqdm<5.0.0,>=4.38.0 in /home/unknown/anaconda3/lib/python3.7/site-packages (from spacy<3.4.0,>=3.3.0.dev0->ru-core-news-lg==3.3.0) (4.62.0)\n",
      "Requirement already satisfied: srsly<3.0.0,>=2.4.3 in /home/unknown/anaconda3/lib/python3.7/site-packages (from spacy<3.4.0,>=3.3.0.dev0->ru-core-news-lg==3.3.0) (2.4.3)\n",
      "Requirement already satisfied: thinc<8.1.0,>=8.0.14 in /home/unknown/anaconda3/lib/python3.7/site-packages (from spacy<3.4.0,>=3.3.0.dev0->ru-core-news-lg==3.3.0) (8.0.15)\n",
      "Requirement already satisfied: spacy-loggers<2.0.0,>=1.0.0 in /home/unknown/anaconda3/lib/python3.7/site-packages (from spacy<3.4.0,>=3.3.0.dev0->ru-core-news-lg==3.3.0) (1.0.1)\n",
      "Requirement already satisfied: jinja2 in /home/unknown/anaconda3/lib/python3.7/site-packages (from spacy<3.4.0,>=3.3.0.dev0->ru-core-news-lg==3.3.0) (2.11.1)\n",
      "Requirement already satisfied: cymem<2.1.0,>=2.0.2 in /home/unknown/anaconda3/lib/python3.7/site-packages (from spacy<3.4.0,>=3.3.0.dev0->ru-core-news-lg==3.3.0) (2.0.6)\n",
      "Requirement already satisfied: wasabi<1.1.0,>=0.9.1 in /home/unknown/anaconda3/lib/python3.7/site-packages (from spacy<3.4.0,>=3.3.0.dev0->ru-core-news-lg==3.3.0) (0.9.1)\n",
      "Requirement already satisfied: requests<3.0.0,>=2.13.0 in /home/unknown/anaconda3/lib/python3.7/site-packages (from spacy<3.4.0,>=3.3.0.dev0->ru-core-news-lg==3.3.0) (2.22.0)\n",
      "Requirement already satisfied: langcodes<4.0.0,>=3.2.0 in /home/unknown/anaconda3/lib/python3.7/site-packages (from spacy<3.4.0,>=3.3.0.dev0->ru-core-news-lg==3.3.0) (3.3.0)\n",
      "Requirement already satisfied: catalogue<2.1.0,>=2.0.6 in /home/unknown/anaconda3/lib/python3.7/site-packages (from spacy<3.4.0,>=3.3.0.dev0->ru-core-news-lg==3.3.0) (2.0.7)\n",
      "Requirement already satisfied: spacy-legacy<3.1.0,>=3.0.9 in /home/unknown/anaconda3/lib/python3.7/site-packages (from spacy<3.4.0,>=3.3.0.dev0->ru-core-news-lg==3.3.0) (3.0.9)\n",
      "Requirement already satisfied: preshed<3.1.0,>=3.0.2 in /home/unknown/anaconda3/lib/python3.7/site-packages (from spacy<3.4.0,>=3.3.0.dev0->ru-core-news-lg==3.3.0) (3.0.6)\n",
      "Requirement already satisfied: packaging>=20.0 in /home/unknown/anaconda3/lib/python3.7/site-packages (from spacy<3.4.0,>=3.3.0.dev0->ru-core-news-lg==3.3.0) (21.3)\n",
      "Requirement already satisfied: typing-extensions<4.2.0,>=3.7.4 in /home/unknown/anaconda3/lib/python3.7/site-packages (from spacy<3.4.0,>=3.3.0.dev0->ru-core-news-lg==3.3.0) (3.10.0.2)\n",
      "Collecting pydantic!=1.8,!=1.8.1,<1.9.0,>=1.7.4\n",
      "  Using cached pydantic-1.8.2-cp37-cp37m-manylinux2014_x86_64.whl (10.1 MB)\n",
      "Requirement already satisfied: blis<0.8.0,>=0.4.0 in /home/unknown/anaconda3/lib/python3.7/site-packages (from spacy<3.4.0,>=3.3.0.dev0->ru-core-news-lg==3.3.0) (0.7.7)\n",
      "Requirement already satisfied: murmurhash<1.1.0,>=0.28.0 in /home/unknown/anaconda3/lib/python3.7/site-packages (from spacy<3.4.0,>=3.3.0.dev0->ru-core-news-lg==3.3.0) (1.0.7)\n",
      "Requirement already satisfied: typer<0.5.0,>=0.3.0 in /home/unknown/anaconda3/lib/python3.7/site-packages (from spacy<3.4.0,>=3.3.0.dev0->ru-core-news-lg==3.3.0) (0.4.1)\n",
      "Requirement already satisfied: pathy>=0.3.5 in /home/unknown/anaconda3/lib/python3.7/site-packages (from spacy<3.4.0,>=3.3.0.dev0->ru-core-news-lg==3.3.0) (0.6.1)\n",
      "Requirement already satisfied: zipp>=0.5 in /home/unknown/anaconda3/lib/python3.7/site-packages (from catalogue<2.1.0,>=2.0.6->spacy<3.4.0,>=3.3.0.dev0->ru-core-news-lg==3.3.0) (3.8.0)\n",
      "Requirement already satisfied: pyparsing!=3.0.5,>=2.0.2 in /home/unknown/anaconda3/lib/python3.7/site-packages (from packaging>=20.0->spacy<3.4.0,>=3.3.0.dev0->ru-core-news-lg==3.3.0) (3.0.9)\n",
      "Requirement already satisfied: smart-open<6.0.0,>=5.0.0 in /home/unknown/anaconda3/lib/python3.7/site-packages (from pathy>=0.3.5->spacy<3.4.0,>=3.3.0.dev0->ru-core-news-lg==3.3.0) (5.2.1)\n",
      "Requirement already satisfied: urllib3!=1.25.0,!=1.25.1,<1.26,>=1.21.1 in /home/unknown/anaconda3/lib/python3.7/site-packages (from requests<3.0.0,>=2.13.0->spacy<3.4.0,>=3.3.0.dev0->ru-core-news-lg==3.3.0) (1.25.11)\n",
      "Requirement already satisfied: certifi>=2017.4.17 in /home/unknown/anaconda3/lib/python3.7/site-packages (from requests<3.0.0,>=2.13.0->spacy<3.4.0,>=3.3.0.dev0->ru-core-news-lg==3.3.0) (2022.6.15)\n",
      "Requirement already satisfied: chardet<3.1.0,>=3.0.2 in /home/unknown/anaconda3/lib/python3.7/site-packages (from requests<3.0.0,>=2.13.0->spacy<3.4.0,>=3.3.0.dev0->ru-core-news-lg==3.3.0) (3.0.4)\n",
      "Requirement already satisfied: idna<2.9,>=2.5 in /home/unknown/anaconda3/lib/python3.7/site-packages (from requests<3.0.0,>=2.13.0->spacy<3.4.0,>=3.3.0.dev0->ru-core-news-lg==3.3.0) (2.8)\n",
      "Requirement already satisfied: click<9.0.0,>=7.1.1 in /home/unknown/anaconda3/lib/python3.7/site-packages (from typer<0.5.0,>=0.3.0->spacy<3.4.0,>=3.3.0.dev0->ru-core-news-lg==3.3.0) (7.1.2)\n",
      "Requirement already satisfied: MarkupSafe>=0.23 in /home/unknown/anaconda3/lib/python3.7/site-packages (from jinja2->spacy<3.4.0,>=3.3.0.dev0->ru-core-news-lg==3.3.0) (2.0.1)\n",
      "Installing collected packages: pymorphy2, pydantic\n",
      "  Attempting uninstall: pymorphy2\n",
      "    Found existing installation: pymorphy2 0.8\n",
      "    Uninstalling pymorphy2-0.8:\n",
      "      Successfully uninstalled pymorphy2-0.8\n",
      "  Attempting uninstall: pydantic\n",
      "    Found existing installation: pydantic 1.3\n",
      "    Uninstalling pydantic-1.3:\n",
      "      Successfully uninstalled pydantic-1.3\n",
      "\u001b[31mERROR: pip's dependency resolver does not currently take into account all the packages that are installed. This behaviour is the source of the following dependency conflicts.\n",
      "deeppavlov 0.17.4 requires pydantic==1.3, but you have pydantic 1.8.2 which is incompatible.\n",
      "deeppavlov 0.17.4 requires pymorphy2==0.8, but you have pymorphy2 0.9.1 which is incompatible.\u001b[0m\u001b[31m\n",
      "\u001b[0mSuccessfully installed pydantic-1.8.2 pymorphy2-0.9.1\n",
      "\u001b[38;5;2m✔ Download and installation successful\u001b[0m\n",
      "You can now load the package via spacy.load('ru_core_news_lg')\n"
     ]
    }
   ],
   "source": [
    "!python -m spacy download ru_core_news_lg"
   ]
  },
  {
   "cell_type": "code",
   "execution_count": 14,
   "id": "5de93ab1",
   "metadata": {
    "collapsed": true
   },
   "outputs": [
    {
     "name": "stdout",
     "output_type": "stream",
     "text": [
      "Collecting ru-core-news-sm==3.3.0\n",
      "  Downloading https://github.com/explosion/spacy-models/releases/download/ru_core_news_sm-3.3.0/ru_core_news_sm-3.3.0-py3-none-any.whl (15.3 MB)\n",
      "\u001b[2K     \u001b[38;2;114;156;31m━━━━━━━━━━━━━━━━━━━━━━━━━━━━━━━━━━━━━━━━\u001b[0m \u001b[32m15.3/15.3 MB\u001b[0m \u001b[31m1.1 MB/s\u001b[0m eta \u001b[36m0:00:00\u001b[0mm eta \u001b[36m0:00:01\u001b[0m[36m0:00:01\u001b[0mm\n",
      "\u001b[?25hRequirement already satisfied: spacy<3.4.0,>=3.3.0.dev0 in /home/unknown/anaconda3/lib/python3.7/site-packages (from ru-core-news-sm==3.3.0) (3.3.1)\n",
      "Requirement already satisfied: pymorphy2>=0.9 in /home/unknown/anaconda3/lib/python3.7/site-packages (from ru-core-news-sm==3.3.0) (0.9.1)\n",
      "Requirement already satisfied: docopt>=0.6 in /home/unknown/anaconda3/lib/python3.7/site-packages (from pymorphy2>=0.9->ru-core-news-sm==3.3.0) (0.6.2)\n",
      "Requirement already satisfied: pymorphy2-dicts-ru<3.0,>=2.4 in /home/unknown/anaconda3/lib/python3.7/site-packages (from pymorphy2>=0.9->ru-core-news-sm==3.3.0) (2.4.417127.4579844)\n",
      "Requirement already satisfied: dawg-python>=0.7.1 in /home/unknown/anaconda3/lib/python3.7/site-packages (from pymorphy2>=0.9->ru-core-news-sm==3.3.0) (0.7.2)\n",
      "Requirement already satisfied: setuptools in /home/unknown/anaconda3/lib/python3.7/site-packages (from spacy<3.4.0,>=3.3.0.dev0->ru-core-news-sm==3.3.0) (63.4.1)\n",
      "Requirement already satisfied: typing-extensions<4.2.0,>=3.7.4 in /home/unknown/anaconda3/lib/python3.7/site-packages (from spacy<3.4.0,>=3.3.0.dev0->ru-core-news-sm==3.3.0) (3.10.0.2)\n",
      "Requirement already satisfied: wasabi<1.1.0,>=0.9.1 in /home/unknown/anaconda3/lib/python3.7/site-packages (from spacy<3.4.0,>=3.3.0.dev0->ru-core-news-sm==3.3.0) (0.9.1)\n",
      "Requirement already satisfied: cymem<2.1.0,>=2.0.2 in /home/unknown/anaconda3/lib/python3.7/site-packages (from spacy<3.4.0,>=3.3.0.dev0->ru-core-news-sm==3.3.0) (2.0.6)\n",
      "Requirement already satisfied: pydantic!=1.8,!=1.8.1,<1.9.0,>=1.7.4 in /home/unknown/anaconda3/lib/python3.7/site-packages (from spacy<3.4.0,>=3.3.0.dev0->ru-core-news-sm==3.3.0) (1.8.2)\n",
      "Requirement already satisfied: numpy>=1.15.0 in /home/unknown/anaconda3/lib/python3.7/site-packages (from spacy<3.4.0,>=3.3.0.dev0->ru-core-news-sm==3.3.0) (1.18.0)\n",
      "Requirement already satisfied: preshed<3.1.0,>=3.0.2 in /home/unknown/anaconda3/lib/python3.7/site-packages (from spacy<3.4.0,>=3.3.0.dev0->ru-core-news-sm==3.3.0) (3.0.6)\n",
      "Requirement already satisfied: packaging>=20.0 in /home/unknown/anaconda3/lib/python3.7/site-packages (from spacy<3.4.0,>=3.3.0.dev0->ru-core-news-sm==3.3.0) (21.3)\n",
      "Requirement already satisfied: srsly<3.0.0,>=2.4.3 in /home/unknown/anaconda3/lib/python3.7/site-packages (from spacy<3.4.0,>=3.3.0.dev0->ru-core-news-sm==3.3.0) (2.4.3)\n",
      "Requirement already satisfied: catalogue<2.1.0,>=2.0.6 in /home/unknown/anaconda3/lib/python3.7/site-packages (from spacy<3.4.0,>=3.3.0.dev0->ru-core-news-sm==3.3.0) (2.0.7)\n",
      "Requirement already satisfied: spacy-loggers<2.0.0,>=1.0.0 in /home/unknown/anaconda3/lib/python3.7/site-packages (from spacy<3.4.0,>=3.3.0.dev0->ru-core-news-sm==3.3.0) (1.0.1)\n",
      "Requirement already satisfied: blis<0.8.0,>=0.4.0 in /home/unknown/anaconda3/lib/python3.7/site-packages (from spacy<3.4.0,>=3.3.0.dev0->ru-core-news-sm==3.3.0) (0.7.7)\n",
      "Requirement already satisfied: requests<3.0.0,>=2.13.0 in /home/unknown/anaconda3/lib/python3.7/site-packages (from spacy<3.4.0,>=3.3.0.dev0->ru-core-news-sm==3.3.0) (2.22.0)\n",
      "Requirement already satisfied: typer<0.5.0,>=0.3.0 in /home/unknown/anaconda3/lib/python3.7/site-packages (from spacy<3.4.0,>=3.3.0.dev0->ru-core-news-sm==3.3.0) (0.4.1)\n",
      "Requirement already satisfied: langcodes<4.0.0,>=3.2.0 in /home/unknown/anaconda3/lib/python3.7/site-packages (from spacy<3.4.0,>=3.3.0.dev0->ru-core-news-sm==3.3.0) (3.3.0)\n",
      "Requirement already satisfied: thinc<8.1.0,>=8.0.14 in /home/unknown/anaconda3/lib/python3.7/site-packages (from spacy<3.4.0,>=3.3.0.dev0->ru-core-news-sm==3.3.0) (8.0.15)\n",
      "Requirement already satisfied: murmurhash<1.1.0,>=0.28.0 in /home/unknown/anaconda3/lib/python3.7/site-packages (from spacy<3.4.0,>=3.3.0.dev0->ru-core-news-sm==3.3.0) (1.0.7)\n",
      "Requirement already satisfied: spacy-legacy<3.1.0,>=3.0.9 in /home/unknown/anaconda3/lib/python3.7/site-packages (from spacy<3.4.0,>=3.3.0.dev0->ru-core-news-sm==3.3.0) (3.0.9)\n",
      "Requirement already satisfied: tqdm<5.0.0,>=4.38.0 in /home/unknown/anaconda3/lib/python3.7/site-packages (from spacy<3.4.0,>=3.3.0.dev0->ru-core-news-sm==3.3.0) (4.62.0)\n",
      "Requirement already satisfied: pathy>=0.3.5 in /home/unknown/anaconda3/lib/python3.7/site-packages (from spacy<3.4.0,>=3.3.0.dev0->ru-core-news-sm==3.3.0) (0.6.1)\n",
      "Requirement already satisfied: jinja2 in /home/unknown/anaconda3/lib/python3.7/site-packages (from spacy<3.4.0,>=3.3.0.dev0->ru-core-news-sm==3.3.0) (2.11.1)\n",
      "Requirement already satisfied: zipp>=0.5 in /home/unknown/anaconda3/lib/python3.7/site-packages (from catalogue<2.1.0,>=2.0.6->spacy<3.4.0,>=3.3.0.dev0->ru-core-news-sm==3.3.0) (3.8.0)\n",
      "Requirement already satisfied: pyparsing!=3.0.5,>=2.0.2 in /home/unknown/anaconda3/lib/python3.7/site-packages (from packaging>=20.0->spacy<3.4.0,>=3.3.0.dev0->ru-core-news-sm==3.3.0) (3.0.9)\n",
      "Requirement already satisfied: smart-open<6.0.0,>=5.0.0 in /home/unknown/anaconda3/lib/python3.7/site-packages (from pathy>=0.3.5->spacy<3.4.0,>=3.3.0.dev0->ru-core-news-sm==3.3.0) (5.2.1)\n",
      "Requirement already satisfied: certifi>=2017.4.17 in /home/unknown/anaconda3/lib/python3.7/site-packages (from requests<3.0.0,>=2.13.0->spacy<3.4.0,>=3.3.0.dev0->ru-core-news-sm==3.3.0) (2022.6.15)\n",
      "Requirement already satisfied: chardet<3.1.0,>=3.0.2 in /home/unknown/anaconda3/lib/python3.7/site-packages (from requests<3.0.0,>=2.13.0->spacy<3.4.0,>=3.3.0.dev0->ru-core-news-sm==3.3.0) (3.0.4)\n",
      "Requirement already satisfied: urllib3!=1.25.0,!=1.25.1,<1.26,>=1.21.1 in /home/unknown/anaconda3/lib/python3.7/site-packages (from requests<3.0.0,>=2.13.0->spacy<3.4.0,>=3.3.0.dev0->ru-core-news-sm==3.3.0) (1.25.11)\n",
      "Requirement already satisfied: idna<2.9,>=2.5 in /home/unknown/anaconda3/lib/python3.7/site-packages (from requests<3.0.0,>=2.13.0->spacy<3.4.0,>=3.3.0.dev0->ru-core-news-sm==3.3.0) (2.8)\n",
      "Requirement already satisfied: click<9.0.0,>=7.1.1 in /home/unknown/anaconda3/lib/python3.7/site-packages (from typer<0.5.0,>=0.3.0->spacy<3.4.0,>=3.3.0.dev0->ru-core-news-sm==3.3.0) (7.1.2)\n",
      "Requirement already satisfied: MarkupSafe>=0.23 in /home/unknown/anaconda3/lib/python3.7/site-packages (from jinja2->spacy<3.4.0,>=3.3.0.dev0->ru-core-news-sm==3.3.0) (2.0.1)\n",
      "\u001b[38;5;2m✔ Download and installation successful\u001b[0m\n",
      "You can now load the package via spacy.load('ru_core_news_sm')\n"
     ]
    }
   ],
   "source": [
    "!python -m spacy download ru_core_news_sm"
   ]
  },
  {
   "cell_type": "code",
   "execution_count": 15,
   "id": "f800fb4d",
   "metadata": {
    "collapsed": true
   },
   "outputs": [
    {
     "name": "stdout",
     "output_type": "stream",
     "text": [
      "Collecting ru-core-news-md==3.3.0\n",
      "  Downloading https://github.com/explosion/spacy-models/releases/download/ru_core_news_md-3.3.0/ru_core_news_md-3.3.0-py3-none-any.whl (41.9 MB)\n",
      "\u001b[2K     \u001b[38;2;114;156;31m━━━━━━━━━━━━━━━━━━━━━━━━━━━━━━━━━━━━━━━\u001b[0m \u001b[32m41.9/41.9 MB\u001b[0m \u001b[31m624.3 kB/s\u001b[0m eta \u001b[36m0:00:00\u001b[0mm eta \u001b[36m0:00:01\u001b[0m[36m0:00:03\u001b[0m\n",
      "\u001b[?25hRequirement already satisfied: pymorphy2>=0.9 in /home/unknown/anaconda3/lib/python3.7/site-packages (from ru-core-news-md==3.3.0) (0.9.1)\n",
      "Requirement already satisfied: spacy<3.4.0,>=3.3.0.dev0 in /home/unknown/anaconda3/lib/python3.7/site-packages (from ru-core-news-md==3.3.0) (3.3.1)\n",
      "Requirement already satisfied: docopt>=0.6 in /home/unknown/anaconda3/lib/python3.7/site-packages (from pymorphy2>=0.9->ru-core-news-md==3.3.0) (0.6.2)\n",
      "Requirement already satisfied: dawg-python>=0.7.1 in /home/unknown/anaconda3/lib/python3.7/site-packages (from pymorphy2>=0.9->ru-core-news-md==3.3.0) (0.7.2)\n",
      "Requirement already satisfied: pymorphy2-dicts-ru<3.0,>=2.4 in /home/unknown/anaconda3/lib/python3.7/site-packages (from pymorphy2>=0.9->ru-core-news-md==3.3.0) (2.4.417127.4579844)\n",
      "Requirement already satisfied: srsly<3.0.0,>=2.4.3 in /home/unknown/anaconda3/lib/python3.7/site-packages (from spacy<3.4.0,>=3.3.0.dev0->ru-core-news-md==3.3.0) (2.4.3)\n",
      "Requirement already satisfied: blis<0.8.0,>=0.4.0 in /home/unknown/anaconda3/lib/python3.7/site-packages (from spacy<3.4.0,>=3.3.0.dev0->ru-core-news-md==3.3.0) (0.7.7)\n",
      "Requirement already satisfied: packaging>=20.0 in /home/unknown/anaconda3/lib/python3.7/site-packages (from spacy<3.4.0,>=3.3.0.dev0->ru-core-news-md==3.3.0) (21.3)\n",
      "Requirement already satisfied: jinja2 in /home/unknown/anaconda3/lib/python3.7/site-packages (from spacy<3.4.0,>=3.3.0.dev0->ru-core-news-md==3.3.0) (2.11.1)\n",
      "Requirement already satisfied: numpy>=1.15.0 in /home/unknown/anaconda3/lib/python3.7/site-packages (from spacy<3.4.0,>=3.3.0.dev0->ru-core-news-md==3.3.0) (1.18.0)\n",
      "Requirement already satisfied: tqdm<5.0.0,>=4.38.0 in /home/unknown/anaconda3/lib/python3.7/site-packages (from spacy<3.4.0,>=3.3.0.dev0->ru-core-news-md==3.3.0) (4.62.0)\n",
      "Requirement already satisfied: spacy-loggers<2.0.0,>=1.0.0 in /home/unknown/anaconda3/lib/python3.7/site-packages (from spacy<3.4.0,>=3.3.0.dev0->ru-core-news-md==3.3.0) (1.0.1)\n",
      "Requirement already satisfied: murmurhash<1.1.0,>=0.28.0 in /home/unknown/anaconda3/lib/python3.7/site-packages (from spacy<3.4.0,>=3.3.0.dev0->ru-core-news-md==3.3.0) (1.0.7)\n",
      "Requirement already satisfied: typer<0.5.0,>=0.3.0 in /home/unknown/anaconda3/lib/python3.7/site-packages (from spacy<3.4.0,>=3.3.0.dev0->ru-core-news-md==3.3.0) (0.4.1)\n",
      "Requirement already satisfied: thinc<8.1.0,>=8.0.14 in /home/unknown/anaconda3/lib/python3.7/site-packages (from spacy<3.4.0,>=3.3.0.dev0->ru-core-news-md==3.3.0) (8.0.15)\n",
      "Requirement already satisfied: setuptools in /home/unknown/anaconda3/lib/python3.7/site-packages (from spacy<3.4.0,>=3.3.0.dev0->ru-core-news-md==3.3.0) (63.4.1)\n",
      "Requirement already satisfied: langcodes<4.0.0,>=3.2.0 in /home/unknown/anaconda3/lib/python3.7/site-packages (from spacy<3.4.0,>=3.3.0.dev0->ru-core-news-md==3.3.0) (3.3.0)\n",
      "Requirement already satisfied: cymem<2.1.0,>=2.0.2 in /home/unknown/anaconda3/lib/python3.7/site-packages (from spacy<3.4.0,>=3.3.0.dev0->ru-core-news-md==3.3.0) (2.0.6)\n",
      "Requirement already satisfied: wasabi<1.1.0,>=0.9.1 in /home/unknown/anaconda3/lib/python3.7/site-packages (from spacy<3.4.0,>=3.3.0.dev0->ru-core-news-md==3.3.0) (0.9.1)\n",
      "Requirement already satisfied: typing-extensions<4.2.0,>=3.7.4 in /home/unknown/anaconda3/lib/python3.7/site-packages (from spacy<3.4.0,>=3.3.0.dev0->ru-core-news-md==3.3.0) (3.10.0.2)\n",
      "Requirement already satisfied: preshed<3.1.0,>=3.0.2 in /home/unknown/anaconda3/lib/python3.7/site-packages (from spacy<3.4.0,>=3.3.0.dev0->ru-core-news-md==3.3.0) (3.0.6)\n",
      "Requirement already satisfied: pydantic!=1.8,!=1.8.1,<1.9.0,>=1.7.4 in /home/unknown/anaconda3/lib/python3.7/site-packages (from spacy<3.4.0,>=3.3.0.dev0->ru-core-news-md==3.3.0) (1.8.2)\n",
      "Requirement already satisfied: requests<3.0.0,>=2.13.0 in /home/unknown/anaconda3/lib/python3.7/site-packages (from spacy<3.4.0,>=3.3.0.dev0->ru-core-news-md==3.3.0) (2.22.0)\n",
      "Requirement already satisfied: catalogue<2.1.0,>=2.0.6 in /home/unknown/anaconda3/lib/python3.7/site-packages (from spacy<3.4.0,>=3.3.0.dev0->ru-core-news-md==3.3.0) (2.0.7)\n",
      "Requirement already satisfied: pathy>=0.3.5 in /home/unknown/anaconda3/lib/python3.7/site-packages (from spacy<3.4.0,>=3.3.0.dev0->ru-core-news-md==3.3.0) (0.6.1)\n",
      "Requirement already satisfied: spacy-legacy<3.1.0,>=3.0.9 in /home/unknown/anaconda3/lib/python3.7/site-packages (from spacy<3.4.0,>=3.3.0.dev0->ru-core-news-md==3.3.0) (3.0.9)\n",
      "Requirement already satisfied: zipp>=0.5 in /home/unknown/anaconda3/lib/python3.7/site-packages (from catalogue<2.1.0,>=2.0.6->spacy<3.4.0,>=3.3.0.dev0->ru-core-news-md==3.3.0) (3.8.0)\n",
      "Requirement already satisfied: pyparsing!=3.0.5,>=2.0.2 in /home/unknown/anaconda3/lib/python3.7/site-packages (from packaging>=20.0->spacy<3.4.0,>=3.3.0.dev0->ru-core-news-md==3.3.0) (3.0.9)\n",
      "Requirement already satisfied: smart-open<6.0.0,>=5.0.0 in /home/unknown/anaconda3/lib/python3.7/site-packages (from pathy>=0.3.5->spacy<3.4.0,>=3.3.0.dev0->ru-core-news-md==3.3.0) (5.2.1)\n",
      "Requirement already satisfied: certifi>=2017.4.17 in /home/unknown/anaconda3/lib/python3.7/site-packages (from requests<3.0.0,>=2.13.0->spacy<3.4.0,>=3.3.0.dev0->ru-core-news-md==3.3.0) (2022.6.15)\n",
      "Requirement already satisfied: urllib3!=1.25.0,!=1.25.1,<1.26,>=1.21.1 in /home/unknown/anaconda3/lib/python3.7/site-packages (from requests<3.0.0,>=2.13.0->spacy<3.4.0,>=3.3.0.dev0->ru-core-news-md==3.3.0) (1.25.11)\n",
      "Requirement already satisfied: idna<2.9,>=2.5 in /home/unknown/anaconda3/lib/python3.7/site-packages (from requests<3.0.0,>=2.13.0->spacy<3.4.0,>=3.3.0.dev0->ru-core-news-md==3.3.0) (2.8)\n",
      "Requirement already satisfied: chardet<3.1.0,>=3.0.2 in /home/unknown/anaconda3/lib/python3.7/site-packages (from requests<3.0.0,>=2.13.0->spacy<3.4.0,>=3.3.0.dev0->ru-core-news-md==3.3.0) (3.0.4)\n",
      "Requirement already satisfied: click<9.0.0,>=7.1.1 in /home/unknown/anaconda3/lib/python3.7/site-packages (from typer<0.5.0,>=0.3.0->spacy<3.4.0,>=3.3.0.dev0->ru-core-news-md==3.3.0) (7.1.2)\n",
      "Requirement already satisfied: MarkupSafe>=0.23 in /home/unknown/anaconda3/lib/python3.7/site-packages (from jinja2->spacy<3.4.0,>=3.3.0.dev0->ru-core-news-md==3.3.0) (2.0.1)\n",
      "\u001b[38;5;2m✔ Download and installation successful\u001b[0m\n",
      "You can now load the package via spacy.load('ru_core_news_md')\n"
     ]
    }
   ],
   "source": [
    "!python -m spacy download ru_core_news_md"
   ]
  },
  {
   "cell_type": "code",
   "execution_count": 11,
   "id": "899b4b08",
   "metadata": {},
   "outputs": [],
   "source": [
    "import ru_core_news_lg\n",
    "nlp = ru_core_news_lg.load()## for name ners"
   ]
  },
  {
   "cell_type": "code",
   "execution_count": 12,
   "id": "51cbc16e",
   "metadata": {},
   "outputs": [],
   "source": [
    "introduce = ['звать', 'мое имя', 'зовут']#, 'я', 'это']\n",
    "grtngs = ['здравствуйте', 'привет', 'позвольте представиться',  'добрый день', 'добрый вечер',\n",
    "          'доброе утро', 'утро доброе', 'вечер добрый','день добрый', 'приветствую']\n",
    "greeting = False\n",
    "byes = ['до свидания', 'всего хорошего', 'всего доброго']\n",
    "bye = False"
   ]
  },
  {
   "cell_type": "code",
   "execution_count": 13,
   "id": "035f3f11",
   "metadata": {},
   "outputs": [],
   "source": [
    "mgr_table = [['None' for x in range(6)] for y in range(len(mgrs_dialog))]\n",
    "\n",
    "\n",
    "for j in range(len(mgrs_dialog)):\n",
    "    greeting = False\n",
    "    bye = False\n",
    "    for i in range(len(mgrs_dialog[j])):\n",
    "        text = mgrs_dialog[j][i]\n",
    "        \n",
    "        if i < 5:\n",
    "            greeting = greeting or bool([c for c in grtngs if(c in text.lower())])\n",
    "            if bool([c for c in grtngs if(c in text.lower())]):\n",
    "                mgr_table[j][0] = text\n",
    "\n",
    "            doc_spacy = nlp(text)\n",
    "            for named_entity in doc_spacy.ents:\n",
    "                if named_entity.label_ == PER and bool([c for c in introduce if(c in text.lower())]) and mgr_table[j][1] == 'None' and mgr_table[j][2] == 'None':\n",
    "                    mgr_table[j][1] = text\n",
    "                    mgr_table[j][2] = named_entity\n",
    "\n",
    "            if 'компания' in text:\n",
    "                company = ''\n",
    "                doc_nat = Doc(text)\n",
    "                doc_nat.segment(segmenter)\n",
    "                for tok_pos in range(len(doc_nat.tokens)):\n",
    "                    if doc_nat.tokens[tok_pos].text == 'компания':\n",
    "                        break\n",
    "\n",
    "                text = text[doc_nat.tokens[tok_pos].stop:]\n",
    "                doc_nat = Doc(text)\n",
    "                doc_nat.segment(segmenter)\n",
    "                doc_nat.tag_morph(morph_tagger)\n",
    "\n",
    "                pos = 0\n",
    "                company = doc_nat.sents[0].morph.tokens[pos].text\n",
    "                \n",
    "                while doc_nat.sents[0].morph.tokens[pos].pos != 'NOUN':\n",
    "                    pos +=1\n",
    "                    company = company + ' ' + doc_nat.sents[0].morph.tokens[pos].text\n",
    "\n",
    "                mgr_table[j][3] = company\n",
    "        \n",
    "        bye = bye or bool([c for c in byes if(c in text.lower())])\n",
    "        if bool([c for c in byes if(c in text.lower())]):\n",
    "            mgr_table[j][4] = text\n",
    "    mgr_table[j][5] = greeting and bye"
   ]
  },
  {
   "cell_type": "code",
   "execution_count": 14,
   "id": "5335921d",
   "metadata": {},
   "outputs": [
    {
     "name": "stdout",
     "output_type": "stream",
     "text": [
      "[['Алло здравствуйте',\n",
      "  'Меня зовут ангелина компания диджитал бизнес звоним вам по поводу продления '\n",
      "  'лицензии а мы с серым у вас скоро срок заканчивается',\n",
      "  ангелина,\n",
      "  'диджитал бизнес',\n",
      "  'Всего хорошего до свидания',\n",
      "  True],\n",
      " ['Алло здравствуйте',\n",
      "  'Меня зовут ангелина компания диджитал бизнес звоню вам по поводу продления '\n",
      "  'а мы сели обратила внимание что у вас срок заканчивается',\n",
      "  ангелина,\n",
      "  'диджитал бизнес',\n",
      "  'До свидания',\n",
      "  True],\n",
      " ['Алло здравствуйте',\n",
      "  'Меня зовут ангелина компания диджитал бизнес звоню вам по поводу продления '\n",
      "  'лицензии а мастера мы с вами сотрудничали по видео там',\n",
      "  ангелина,\n",
      "  'диджитал бизнес',\n",
      "  'None',\n",
      "  False],\n",
      " ['Алло дмитрий добрый день',\n",
      "  'Добрый меня максим зовут компания китобизнес удобно говорить',\n",
      "  максим,\n",
      "  'китобизнес',\n",
      "  'Угу все хорошо да понедельника тогда всего доброго',\n",
      "  True],\n",
      " ['None',\n",
      "  'None',\n",
      "  'None',\n",
      "  'None',\n",
      "  'Во вторник все ну с вами да тогда до вторника до свидания',\n",
      "  False],\n",
      " ['None', 'None', 'None', 'None', 'Ну до свидания хорошего вечера', False]]\n"
     ]
    }
   ],
   "source": [
    "pprint(mgr_table)"
   ]
  },
  {
   "cell_type": "code",
   "execution_count": null,
   "id": "ccf6d89b",
   "metadata": {},
   "outputs": [],
   "source": []
  }
 ],
 "metadata": {
  "kernelspec": {
   "display_name": "Python 3",
   "language": "python",
   "name": "python3"
  },
  "language_info": {
   "codemirror_mode": {
    "name": "ipython",
    "version": 3
   },
   "file_extension": ".py",
   "mimetype": "text/x-python",
   "name": "python",
   "nbconvert_exporter": "python",
   "pygments_lexer": "ipython3",
   "version": "3.7.13"
  }
 },
 "nbformat": 4,
 "nbformat_minor": 5
}
